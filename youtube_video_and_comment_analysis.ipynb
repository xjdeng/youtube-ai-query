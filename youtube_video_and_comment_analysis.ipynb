{
  "nbformat": 4,
  "nbformat_minor": 0,
  "metadata": {
    "colab": {
      "provenance": [],
      "authorship_tag": "ABX9TyOuC1WVSJaoAnwYpN/8ffQ5",
      "include_colab_link": true
    },
    "kernelspec": {
      "name": "python3",
      "display_name": "Python 3"
    },
    "language_info": {
      "name": "python"
    }
  },
  "cells": [
    {
      "cell_type": "markdown",
      "metadata": {
        "id": "view-in-github",
        "colab_type": "text"
      },
      "source": [
        "<a href=\"https://colab.research.google.com/github/xjdeng/youtube-ai-query/blob/main/youtube_video_and_comment_analysis.ipynb\" target=\"_parent\"><img src=\"https://colab.research.google.com/assets/colab-badge.svg\" alt=\"Open In Colab\"/></a>"
      ]
    },
    {
      "cell_type": "code",
      "execution_count": null,
      "metadata": {
        "id": "Q_Cq9eTG0G-1"
      },
      "outputs": [],
      "source": [
        "!pip install google-api-python-client youtube-transcript-api"
      ]
    },
    {
      "cell_type": "code",
      "source": [
        "from googleapiclient.discovery import build\n",
        "from youtube_transcript_api import YouTubeTranscriptApi\n",
        "from google.colab import userdata\n",
        "import google.generativeai as genai\n",
        "import json\n",
        "import pprint\n",
        "from google.colab import files\n",
        "api_key = userdata.get(\"YOUTUBE_API_KEY\") #Set up Youtube Data API, see video: https://www.youtube.com/watch?v=c2niAOP82h4\n",
        "youtube = build('youtube', 'v3', developerKey=api_key)\n",
        "GOOGLE_API_KEY=userdata.get('GOOGLE_API_KEY') #Set up Gemini Credentials, see video: https://www.youtube.com/watch?v=S1elvCs1gyI\n",
        "genai.configure(api_key=GOOGLE_API_KEY)\n",
        "model = genai.GenerativeModel(\"gemini-1.5-flash-latest\")"
      ],
      "metadata": {
        "id": "4OvpKq9G0OV-"
      },
      "execution_count": null,
      "outputs": []
    },
    {
      "cell_type": "code",
      "source": [
        "def get_comments(video_url, maxresults=1000):\n",
        "    if \"&\" in video_url:\n",
        "        video_url = video_url.split(\"&\")[0]\n",
        "    video_id = video_url.split(\"v=\")[1]\n",
        "\n",
        "    # Fetch top-level comments\n",
        "    request = youtube.commentThreads().list(\n",
        "        part=\"snippet\",\n",
        "        videoId=video_id,\n",
        "        maxResults=maxresults,\n",
        "        order=\"relevance\"  # Fetch top-liked comments\n",
        "    )\n",
        "    response = request.execute()\n",
        "\n",
        "    comments = []\n",
        "    for item in response.get('items', []):\n",
        "        snippet = item['snippet']['topLevelComment']['snippet']\n",
        "        comment_text = snippet['textDisplay']\n",
        "        rating = snippet.get('likeCount', 0)  # Default to 0 if 'likeCount' is missing\n",
        "        comments.append({\"comment\": comment_text, \"rating\": rating})\n",
        "\n",
        "    return comments\n",
        "\n",
        "def get_transcript(video_url):\n",
        "  if \"&\" in video_url:\n",
        "    video_url = video_url.split(\"&\")[0]\n",
        "  video_id = video_url.split(\"v=\")[1]\n",
        "  entries = []\n",
        "  try:\n",
        "      transcript = YouTubeTranscriptApi.get_transcript(video_id)\n",
        "      for entry in transcript:\n",
        "          entries.append(entry)\n",
        "  except Exception as e:\n",
        "      print(\"Error:\", e)\n",
        "  return entries\n",
        "\n",
        "def pipeline(video_url, maxresults=1000):\n",
        "  transcript = get_transcript(video_url)\n",
        "  comments = get_comments(video_url, maxresults)\n",
        "  return {\"transcript\": transcript, \"comments\": comments}\n",
        "\n",
        "def query_video(query, video_url, maxresults=1000):\n",
        "  data = pipeline(video_url, maxresults)\n",
        "  prompt = f\"\"\"\n",
        "\n",
        "  I'd like to ask the following question on the following Youtube video, given its transcript and top comments.  Please consider the perspective of both the video and the comments and give more weight to comments with higher ratings.\n",
        "\n",
        "  Here's the question:\n",
        "  ---\n",
        "  {query}\n",
        "  ---\n",
        "\n",
        "  Do not download data from Internet, instead, formulate your answer using the following Youtube transcript and top comments:\n",
        "  ---\n",
        "  {data}\n",
        "  ---\n",
        "\n",
        "  \"\"\"\n",
        "  response = model.generate_content(prompt)\n",
        "  return response.text"
      ],
      "metadata": {
        "id": "qCV7TZFu0iNx"
      },
      "execution_count": null,
      "outputs": []
    },
    {
      "cell_type": "code",
      "source": [
        "query = \"Compare and contrast the perspective of the video with its top comments.\"\n",
        "url = \"https://www.youtube.com/watch?v=iGFqfTCL2fs\"\n",
        "\n",
        "pprint.pprint(query_video(query, url))"
      ],
      "metadata": {
        "id": "TG9o1Tpn05sd"
      },
      "execution_count": null,
      "outputs": []
    },
    {
      "cell_type": "code",
      "source": [
        "with open(\"youtube_video_and_comments.json\", \"w\") as f:\n",
        "  json.dump(pipeline(url), f)\n",
        "  files.download(\"youtube_video_and_comments.json\")"
      ],
      "metadata": {
        "id": "L0Ksg6qN0-Uk"
      },
      "execution_count": null,
      "outputs": []
    },
    {
      "cell_type": "code",
      "source": [],
      "metadata": {
        "id": "Ue5Ntng1XP8R"
      },
      "execution_count": null,
      "outputs": []
    }
  ]
}