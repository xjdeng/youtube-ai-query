{
  "nbformat": 4,
  "nbformat_minor": 0,
  "metadata": {
    "colab": {
      "provenance": [],
      "authorship_tag": "ABX9TyO0++jQZf44PYuX17WXalFy",
      "include_colab_link": true
    },
    "kernelspec": {
      "name": "python3",
      "display_name": "Python 3"
    },
    "language_info": {
      "name": "python"
    }
  },
  "cells": [
    {
      "cell_type": "markdown",
      "metadata": {
        "id": "view-in-github",
        "colab_type": "text"
      },
      "source": [
        "<a href=\"https://colab.research.google.com/github/xjdeng/youtube-ai-query/blob/main/ai_query_youtube.ipynb\" target=\"_parent\"><img src=\"https://colab.research.google.com/assets/colab-badge.svg\" alt=\"Open In Colab\"/></a>"
      ]
    },
    {
      "cell_type": "code",
      "execution_count": null,
      "metadata": {
        "id": "ArQr3akmDop1"
      },
      "outputs": [],
      "source": [
        "!pip install youtube-transcript-api"
      ]
    },
    {
      "cell_type": "code",
      "source": [
        "from youtube_transcript_api import YouTubeTranscriptApi\n",
        "from google.colab import userdata\n",
        "import google.generativeai as genai\n",
        "import json\n",
        "import pprint\n",
        "GOOGLE_API_KEY=userdata.get('GOOGLE_API_KEY') #Set up Gemini Credentials, see video: https://www.youtube.com/watch?v=S1elvCs1gyI\n",
        "genai.configure(api_key=GOOGLE_API_KEY)\n",
        "model = genai.GenerativeModel(\"gemini-1.5-flash-latest\")"
      ],
      "metadata": {
        "id": "YyB9TONCEpck"
      },
      "execution_count": null,
      "outputs": []
    },
    {
      "cell_type": "code",
      "source": [
        "def get_transcript(video_url):\n",
        "  if \"&\" in video_url:\n",
        "    video_url = video_url.split(\"&\")[0]\n",
        "  video_id = video_url.split(\"v=\")[1]\n",
        "  entries = []\n",
        "  try:\n",
        "      transcript = YouTubeTranscriptApi.get_transcript(video_id)\n",
        "      for entry in transcript:\n",
        "          entries.append(entry)\n",
        "  except Exception as e:\n",
        "      print(\"Error:\", e)\n",
        "  return entries\n",
        "\n",
        "def get_transcripts(video_url_list):\n",
        "  if isinstance(video_url_list, str):\n",
        "    video_url_list = [video_url_list]\n",
        "  transcripts = []\n",
        "  for video_url in video_url_list:\n",
        "    transcript = get_transcript(video_url)\n",
        "    if len(transcript) > 0:\n",
        "      transcripts.append({\"Video\": video_url, \"Transcript\": transcript})\n",
        "  print(f\"Got {len(transcripts)} transcripts\")\n",
        "  return transcripts"
      ],
      "metadata": {
        "id": "lR_h8kZlEr6g"
      },
      "execution_count": null,
      "outputs": []
    },
    {
      "cell_type": "code",
      "source": [
        "def query_youtubes(query, video_url_list):\n",
        "  transcripts = get_transcripts(video_url_list)\n",
        "  prompt = f\"\"\"\n",
        "\n",
        "  I'd like to ask the following question on a list of Youtube transcripts I'm providing. They may or may not be from different Youtubers.\n",
        "\n",
        "  Here's the question:\n",
        "  ---\n",
        "  {query}\n",
        "  ---\n",
        "\n",
        "  Do not download data from Internet, instead, formulate your answer using the following Youtube transcripts:\n",
        "  ---\n",
        "  {transcripts}\n",
        "  ---\n",
        "\n",
        "  \"\"\"\n",
        "  response = model.generate_content(prompt)\n",
        "  return response.text"
      ],
      "metadata": {
        "id": "D4otMNbyE0nW"
      },
      "execution_count": null,
      "outputs": []
    },
    {
      "cell_type": "code",
      "source": [
        "videos= [\n",
        "    \"https://www.youtube.com/watch?v=y3Umo_jd5AA&pp=ygUXQ2FsIE5ld3BvcnQgbGV4IGZyaWRtYW4%3D\",\n",
        "    \"https://www.youtube.com/watch?v=atuEOcRznpA&pp=ygUWQ2FsIE5ld3BvcnQgdGltIGZlcnJpcw%3D%3D\",\n",
        "    \"https://www.youtube.com/watch?v=z6IgPEO2jAk&pp=ygUcQ2FsIE5ld3BvcnQgam9yZGFuIGhhcmJpbmdlcg%3D%3D\",\n",
        "\n",
        "]\n",
        "\n",
        "query = \"What do they think about pizza?\"\n",
        "\n",
        "pprint.pprint(query_youtubes(query, videos))"
      ],
      "metadata": {
        "id": "x8hwyCWGE8lv"
      },
      "execution_count": null,
      "outputs": []
    },
    {
      "cell_type": "code",
      "source": [
        "# @title\n",
        "from google.colab import files\n",
        "import json\n",
        "transcripts = get_transcripts(videos)\n",
        "fname = \"transcripts.jsonl\"\n",
        "json.dump(transcripts, open(fname, \"w\"))\n",
        "files.download(fname)"
      ],
      "metadata": {
        "cellView": "form",
        "id": "MAChN4uxirL_"
      },
      "execution_count": null,
      "outputs": []
    },
    {
      "cell_type": "code",
      "source": [],
      "metadata": {
        "id": "2faLVDe3IKw8"
      },
      "execution_count": null,
      "outputs": []
    }
  ]
}