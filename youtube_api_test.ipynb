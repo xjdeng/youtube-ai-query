{
  "nbformat": 4,
  "nbformat_minor": 0,
  "metadata": {
    "colab": {
      "provenance": [],
      "authorship_tag": "ABX9TyP9O5un08oV5nVQpZfVBH/X",
      "include_colab_link": true
    },
    "kernelspec": {
      "name": "python3",
      "display_name": "Python 3"
    },
    "language_info": {
      "name": "python"
    }
  },
  "cells": [
    {
      "cell_type": "markdown",
      "metadata": {
        "id": "view-in-github",
        "colab_type": "text"
      },
      "source": [
        "<a href=\"https://colab.research.google.com/github/xjdeng/youtube-ai-query/blob/main/youtube_api_test.ipynb\" target=\"_parent\"><img src=\"https://colab.research.google.com/assets/colab-badge.svg\" alt=\"Open In Colab\"/></a>"
      ]
    },
    {
      "cell_type": "code",
      "execution_count": null,
      "metadata": {
        "id": "Q_Cq9eTG0G-1"
      },
      "outputs": [],
      "source": [
        "!pip install google-api-python-client"
      ]
    },
    {
      "cell_type": "code",
      "source": [
        "from googleapiclient.discovery import build\n",
        "from google.colab import userdata\n",
        "api_key = userdata.get(\"YOUTUBE_API_KEY\")\n",
        "youtube = build('youtube', 'v3', developerKey=api_key)"
      ],
      "metadata": {
        "id": "4OvpKq9G0OV-"
      },
      "execution_count": null,
      "outputs": []
    },
    {
      "cell_type": "code",
      "source": [
        "def get_comments(video_url, maxresults = 50):\n",
        "  if \"&\" in video_url:\n",
        "    video_url = video_url.split(\"&\")[0]\n",
        "  video_id = video_url.split(\"v=\")[1]\n",
        "  # Fetch top-level comments\n",
        "  request = youtube.commentThreads().list(\n",
        "      part=\"snippet\",\n",
        "      videoId=video_id,\n",
        "      maxResults=maxresults,\n",
        "      order=\"relevance\"  # Fetch top-liked comments\n",
        "  )\n",
        "  response = request.execute()\n",
        "\n",
        "  comments = []\n",
        "  for item in response.get('items', []):\n",
        "      comment = item['snippet']['topLevelComment']['snippet']['textDisplay']\n",
        "      comments.append(comment)\n",
        "  return comments"
      ],
      "metadata": {
        "id": "qCV7TZFu0iNx"
      },
      "execution_count": null,
      "outputs": []
    },
    {
      "cell_type": "code",
      "source": [
        "get_comments(\"https://www.youtube.com/watch?v=y3Umo_jd5AA&pp=ygUXQ2FsIE5ld3BvcnQgbGV4IGZyaWRtYW4%3D\")"
      ],
      "metadata": {
        "id": "TG9o1Tpn05sd"
      },
      "execution_count": null,
      "outputs": []
    },
    {
      "cell_type": "code",
      "source": [],
      "metadata": {
        "id": "L0Ksg6qN0-Uk"
      },
      "execution_count": null,
      "outputs": []
    }
  ]
}